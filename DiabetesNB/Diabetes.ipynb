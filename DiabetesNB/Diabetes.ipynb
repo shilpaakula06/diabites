{
  "nbformat": 4,
  "nbformat_minor": 0,
  "metadata": {
    "kernelspec": {
      "display_name": "Python 3",
      "language": "python",
      "name": "python3"
    },
    "language_info": {
      "codemirror_mode": {
        "name": "ipython",
        "version": 3
      },
      "file_extension": ".py",
      "mimetype": "text/x-python",
      "name": "python",
      "nbconvert_exporter": "python",
      "pygments_lexer": "ipython3",
      "version": "3.5.2"
    },
    "colab": {
      "name": "Diabetes.ipynb",
      "provenance": []
    }
  },
  "cells": [
    {
      "cell_type": "markdown",
      "metadata": {
        "id": "JKyntggMRmcS"
      },
      "source": [
        "## import pandas and numpy"
      ]
    },
    {
      "cell_type": "code",
      "metadata": {
        "id": "tLRg_Oc0RmcT"
      },
      "source": [
        "import pandas as pd\n",
        "import numpy as np\n",
        "from google.colab import drive"
      ],
      "execution_count": 12,
      "outputs": []
    },
    {
      "cell_type": "markdown",
      "metadata": {
        "id": "JvTOOSUSRmcY"
      },
      "source": [
        "## create a pandas DataFrame by reading the diabetes.csv"
      ]
    },
    {
      "cell_type": "code",
      "metadata": {
        "id": "bZDJX7dARmcY",
        "outputId": "449b089b-7160-46da-8457-491e289747c7",
        "colab": {
          "base_uri": "https://localhost:8080/"
        }
      },
      "source": [
        "drive.mount('/content/drive/')\n",
        "\n"
      ],
      "execution_count": 13,
      "outputs": [
        {
          "output_type": "stream",
          "text": [
            "Drive already mounted at /content/drive/; to attempt to forcibly remount, call drive.mount(\"/content/drive/\", force_remount=True).\n"
          ],
          "name": "stdout"
        }
      ]
    },
    {
      "cell_type": "code",
      "metadata": {
        "id": "F5BR2IXbSq4X"
      },
      "source": [
        "dataset_file = '/content/drive/My Drive/Colab Notebooks/diabetes.csv'\n",
        "data = pd.read_csv(dataset_file)"
      ],
      "execution_count": 14,
      "outputs": []
    },
    {
      "cell_type": "markdown",
      "metadata": {
        "id": "xXDvbQ0GRmcc"
      },
      "source": [
        "## Display the head of the DataFrame"
      ]
    },
    {
      "cell_type": "code",
      "metadata": {
        "id": "kx-sARw0Rmcc",
        "outputId": "dab26b21-4fe1-444b-9f01-afdd3d5baeae",
        "colab": {
          "base_uri": "https://localhost:8080/",
          "height": 204
        }
      },
      "source": [
        "data.head()"
      ],
      "execution_count": 15,
      "outputs": [
        {
          "output_type": "execute_result",
          "data": {
            "text/html": [
              "<div>\n",
              "<style scoped>\n",
              "    .dataframe tbody tr th:only-of-type {\n",
              "        vertical-align: middle;\n",
              "    }\n",
              "\n",
              "    .dataframe tbody tr th {\n",
              "        vertical-align: top;\n",
              "    }\n",
              "\n",
              "    .dataframe thead th {\n",
              "        text-align: right;\n",
              "    }\n",
              "</style>\n",
              "<table border=\"1\" class=\"dataframe\">\n",
              "  <thead>\n",
              "    <tr style=\"text-align: right;\">\n",
              "      <th></th>\n",
              "      <th>Pregnancies</th>\n",
              "      <th>Glucose</th>\n",
              "      <th>BloodPressure</th>\n",
              "      <th>SkinThickness</th>\n",
              "      <th>Insulin</th>\n",
              "      <th>BMI</th>\n",
              "      <th>DiabetesPedigreeFunction</th>\n",
              "      <th>Age</th>\n",
              "      <th>Outcome</th>\n",
              "    </tr>\n",
              "  </thead>\n",
              "  <tbody>\n",
              "    <tr>\n",
              "      <th>0</th>\n",
              "      <td>6</td>\n",
              "      <td>148</td>\n",
              "      <td>72</td>\n",
              "      <td>35</td>\n",
              "      <td>0</td>\n",
              "      <td>33.6</td>\n",
              "      <td>0.627</td>\n",
              "      <td>50</td>\n",
              "      <td>1</td>\n",
              "    </tr>\n",
              "    <tr>\n",
              "      <th>1</th>\n",
              "      <td>1</td>\n",
              "      <td>85</td>\n",
              "      <td>66</td>\n",
              "      <td>29</td>\n",
              "      <td>0</td>\n",
              "      <td>26.6</td>\n",
              "      <td>0.351</td>\n",
              "      <td>31</td>\n",
              "      <td>0</td>\n",
              "    </tr>\n",
              "    <tr>\n",
              "      <th>2</th>\n",
              "      <td>8</td>\n",
              "      <td>183</td>\n",
              "      <td>64</td>\n",
              "      <td>0</td>\n",
              "      <td>0</td>\n",
              "      <td>23.3</td>\n",
              "      <td>0.672</td>\n",
              "      <td>32</td>\n",
              "      <td>1</td>\n",
              "    </tr>\n",
              "    <tr>\n",
              "      <th>3</th>\n",
              "      <td>1</td>\n",
              "      <td>89</td>\n",
              "      <td>66</td>\n",
              "      <td>23</td>\n",
              "      <td>94</td>\n",
              "      <td>28.1</td>\n",
              "      <td>0.167</td>\n",
              "      <td>21</td>\n",
              "      <td>0</td>\n",
              "    </tr>\n",
              "    <tr>\n",
              "      <th>4</th>\n",
              "      <td>0</td>\n",
              "      <td>137</td>\n",
              "      <td>40</td>\n",
              "      <td>35</td>\n",
              "      <td>168</td>\n",
              "      <td>43.1</td>\n",
              "      <td>2.288</td>\n",
              "      <td>33</td>\n",
              "      <td>1</td>\n",
              "    </tr>\n",
              "  </tbody>\n",
              "</table>\n",
              "</div>"
            ],
            "text/plain": [
              "   Pregnancies  Glucose  BloodPressure  ...  DiabetesPedigreeFunction  Age  Outcome\n",
              "0            6      148             72  ...                     0.627   50        1\n",
              "1            1       85             66  ...                     0.351   31        0\n",
              "2            8      183             64  ...                     0.672   32        1\n",
              "3            1       89             66  ...                     0.167   21        0\n",
              "4            0      137             40  ...                     2.288   33        1\n",
              "\n",
              "[5 rows x 9 columns]"
            ]
          },
          "metadata": {
            "tags": []
          },
          "execution_count": 15
        }
      ]
    },
    {
      "cell_type": "code",
      "metadata": {
        "id": "i8Gnb4CPXAsF",
        "outputId": "1c8d8409-2771-4dd5-d7a0-a8df29573b94",
        "colab": {
          "base_uri": "https://localhost:8080/"
        }
      },
      "source": [
        "data.info()"
      ],
      "execution_count": 24,
      "outputs": [
        {
          "output_type": "stream",
          "text": [
            "<class 'pandas.core.frame.DataFrame'>\n",
            "RangeIndex: 768 entries, 0 to 767\n",
            "Data columns (total 9 columns):\n",
            " #   Column                    Non-Null Count  Dtype  \n",
            "---  ------                    --------------  -----  \n",
            " 0   Pregnancies               768 non-null    int64  \n",
            " 1   Glucose                   768 non-null    int64  \n",
            " 2   BloodPressure             768 non-null    int64  \n",
            " 3   SkinThickness             768 non-null    int64  \n",
            " 4   Insulin                   768 non-null    int64  \n",
            " 5   BMI                       768 non-null    float64\n",
            " 6   DiabetesPedigreeFunction  768 non-null    float64\n",
            " 7   Age                       768 non-null    int64  \n",
            " 8   Outcome                   768 non-null    int64  \n",
            "dtypes: float64(2), int64(7)\n",
            "memory usage: 54.1 KB\n"
          ],
          "name": "stdout"
        }
      ]
    },
    {
      "cell_type": "markdown",
      "metadata": {
        "id": "x_zCUxfjRmci"
      },
      "source": [
        "## Find the mean of 'Glucose' column of the DataFrame and assign it to variable a1"
      ]
    },
    {
      "cell_type": "code",
      "metadata": {
        "id": "LaoUCm8TRmcj"
      },
      "source": [
        "a1=data['Glucose']\n"
      ],
      "execution_count": 25,
      "outputs": []
    },
    {
      "cell_type": "markdown",
      "metadata": {
        "id": "o3FTOc0mRmcn"
      },
      "source": [
        "## Find the median of 'BloodPressure' column of the DataFrame and assign it to variable a2"
      ]
    },
    {
      "cell_type": "code",
      "metadata": {
        "id": "cTPKTeRSRmcn"
      },
      "source": [
        "a2=data['BloodPressure']\n"
      ],
      "execution_count": 26,
      "outputs": []
    },
    {
      "cell_type": "markdown",
      "metadata": {
        "id": "OJbnoIgGRmcq"
      },
      "source": [
        "## Find the mode of 'Age' column of the DataFrame and assign it to variable a3"
      ]
    },
    {
      "cell_type": "code",
      "metadata": {
        "id": "E52MCAO3Rmcr"
      },
      "source": [
        "a3=data['Age']"
      ],
      "execution_count": 27,
      "outputs": []
    },
    {
      "cell_type": "markdown",
      "metadata": {
        "id": "DywT81gCRmcv"
      },
      "source": [
        "## Normalise \n",
        "### Normalise each element by subtracting it with mean of that column"
      ]
    },
    {
      "cell_type": "code",
      "metadata": {
        "id": "Kil9wcC7WVlv"
      },
      "source": [
        "df = data.copy()\n",
        "for x in data.columns:\n",
        "    df[x] = data[x] - data[x].mean()"
      ],
      "execution_count": 29,
      "outputs": []
    },
    {
      "cell_type": "code",
      "metadata": {
        "id": "9Au7KOTRRmcw",
        "outputId": "e8756604-3d08-4804-9960-d431d25a4118",
        "colab": {
          "base_uri": "https://localhost:8080/"
        }
      },
      "source": [
        "df.info()"
      ],
      "execution_count": 30,
      "outputs": [
        {
          "output_type": "stream",
          "text": [
            "<class 'pandas.core.frame.DataFrame'>\n",
            "RangeIndex: 768 entries, 0 to 767\n",
            "Data columns (total 9 columns):\n",
            " #   Column                    Non-Null Count  Dtype  \n",
            "---  ------                    --------------  -----  \n",
            " 0   Pregnancies               768 non-null    float64\n",
            " 1   Glucose                   768 non-null    float64\n",
            " 2   BloodPressure             768 non-null    float64\n",
            " 3   SkinThickness             768 non-null    float64\n",
            " 4   Insulin                   768 non-null    float64\n",
            " 5   BMI                       768 non-null    float64\n",
            " 6   DiabetesPedigreeFunction  768 non-null    float64\n",
            " 7   Age                       768 non-null    float64\n",
            " 8   Outcome                   768 non-null    float64\n",
            "dtypes: float64(9)\n",
            "memory usage: 54.1 KB\n"
          ],
          "name": "stdout"
        }
      ]
    },
    {
      "cell_type": "markdown",
      "metadata": {
        "id": "f8lPvKvVRmcz"
      },
      "source": [
        "## save the normalised DataFrame to 'normalised_diabetes.csv' file"
      ]
    },
    {
      "cell_type": "code",
      "metadata": {
        "id": "hY7v_suCRmcz"
      },
      "source": [
        "df.to_csv('/content/drive/My Drive/Colab Notebooks/normalised_diabetes.csv')"
      ],
      "execution_count": 31,
      "outputs": []
    },
    {
      "cell_type": "markdown",
      "metadata": {
        "id": "TOEjo32MRmc2"
      },
      "source": [
        "**Note : Dont print the answer as output**"
      ]
    },
    {
      "cell_type": "markdown",
      "metadata": {
        "id": "kQ_GO3ZiRmc3"
      },
      "source": [
        "## Run the below cells to save your answers in pickle file. Don't delete the cells."
      ]
    },
    {
      "cell_type": "code",
      "metadata": {
        "id": "v1vhozfzRmc3"
      },
      "source": [
        "import pickle\n",
        "import hashlib\n",
        "def get_pickle(file_name):\n",
        "    with open(file_name, 'rb') as f:\n",
        "        return pickle.load(f)"
      ],
      "execution_count": 32,
      "outputs": []
    },
    {
      "cell_type": "code",
      "metadata": {
        "id": "uVB9ZLZ3Rmc6"
      },
      "source": [
        "def geth(obj):\n",
        "    obj = str(obj).encode()\n",
        "    m = hashlib.md5()\n",
        "    m.update( bytes(obj) )\n",
        "    #print(m.hexdigest())\n",
        "\n",
        "    return m.hexdigest()"
      ],
      "execution_count": 33,
      "outputs": []
    },
    {
      "cell_type": "code",
      "metadata": {
        "id": "eqlUKWefRmc9"
      },
      "source": [
        "def make_pickle(file_name, obj):\n",
        "    with open(file_name, 'wb') as f:\n",
        "        pickle.dump(geth(obj), f, pickle.HIGHEST_PROTOCOL)"
      ],
      "execution_count": 34,
      "outputs": []
    },
    {
      "cell_type": "code",
      "metadata": {
        "id": "ycbmMMdZRmdA"
      },
      "source": [
        "def pickling():\n",
        "    make_pickle('q1.pickle', a1)\n",
        "    make_pickle('q2.pickle', a2)\n",
        "    make_pickle('q3.pickle', a3)\n",
        "    \n",
        "    \n",
        "pickling()\n"
      ],
      "execution_count": 35,
      "outputs": []
    }
  ]
}